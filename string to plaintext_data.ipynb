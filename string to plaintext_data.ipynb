{
 "cells": [
  {
   "cell_type": "code",
   "execution_count": 20,
   "id": "4eecc9bc-9c23-4e48-b2a2-1e39cae2c824",
   "metadata": {},
   "outputs": [],
   "source": [
    "import os\n",
    "import natsort\n",
    "import shutil"
   ]
  },
  {
   "cell_type": "code",
   "execution_count": 8,
   "id": "8b9b8db3-e231-4279-84d9-bf817adb5090",
   "metadata": {},
   "outputs": [],
   "source": [
    "dir = 'D:\\\\Abhimanyu Singh\\\\256_ObjectCategories'"
   ]
  },
  {
   "cell_type": "code",
   "execution_count": 13,
   "id": "99a195e3-cbc0-4702-9621-9a186eaaed24",
   "metadata": {},
   "outputs": [
    {
     "name": "stdout",
     "output_type": "stream",
     "text": [
      "['D:\\\\Abhimanyu Singh\\\\256_ObjectCategories\\\\001.ak47', 'D:\\\\Abhimanyu Singh\\\\256_ObjectCategories\\\\002.american-flag', 'D:\\\\Abhimanyu Singh\\\\256_ObjectCategories\\\\003.backpack', 'D:\\\\Abhimanyu Singh\\\\256_ObjectCategories\\\\004.baseball-bat', 'D:\\\\Abhimanyu Singh\\\\256_ObjectCategories\\\\005.baseball-glove', 'D:\\\\Abhimanyu Singh\\\\256_ObjectCategories\\\\006.basketball-hoop', 'D:\\\\Abhimanyu Singh\\\\256_ObjectCategories\\\\007.bat', 'D:\\\\Abhimanyu Singh\\\\256_ObjectCategories\\\\008.bathtub', 'D:\\\\Abhimanyu Singh\\\\256_ObjectCategories\\\\009.bear', 'D:\\\\Abhimanyu Singh\\\\256_ObjectCategories\\\\010.beer-mug', 'D:\\\\Abhimanyu Singh\\\\256_ObjectCategories\\\\011.billiards', 'D:\\\\Abhimanyu Singh\\\\256_ObjectCategories\\\\012.binoculars', 'D:\\\\Abhimanyu Singh\\\\256_ObjectCategories\\\\013.birdbath', 'D:\\\\Abhimanyu Singh\\\\256_ObjectCategories\\\\014.blimp', 'D:\\\\Abhimanyu Singh\\\\256_ObjectCategories\\\\015.bonsai-101', 'D:\\\\Abhimanyu Singh\\\\256_ObjectCategories\\\\016.boom-box', 'D:\\\\Abhimanyu Singh\\\\256_ObjectCategories\\\\017.bowling-ball', 'D:\\\\Abhimanyu Singh\\\\256_ObjectCategories\\\\018.bowling-pin', 'D:\\\\Abhimanyu Singh\\\\256_ObjectCategories\\\\019.boxing-glove', 'D:\\\\Abhimanyu Singh\\\\256_ObjectCategories\\\\020.brain-101', 'D:\\\\Abhimanyu Singh\\\\256_ObjectCategories\\\\021.breadmaker', 'D:\\\\Abhimanyu Singh\\\\256_ObjectCategories\\\\022.buddha-101', 'D:\\\\Abhimanyu Singh\\\\256_ObjectCategories\\\\023.bulldozer', 'D:\\\\Abhimanyu Singh\\\\256_ObjectCategories\\\\024.butterfly', 'D:\\\\Abhimanyu Singh\\\\256_ObjectCategories\\\\025.cactus', 'D:\\\\Abhimanyu Singh\\\\256_ObjectCategories\\\\026.cake', 'D:\\\\Abhimanyu Singh\\\\256_ObjectCategories\\\\027.calculator', 'D:\\\\Abhimanyu Singh\\\\256_ObjectCategories\\\\028.camel', 'D:\\\\Abhimanyu Singh\\\\256_ObjectCategories\\\\029.cannon', 'D:\\\\Abhimanyu Singh\\\\256_ObjectCategories\\\\030.canoe', 'D:\\\\Abhimanyu Singh\\\\256_ObjectCategories\\\\031.car-tire', 'D:\\\\Abhimanyu Singh\\\\256_ObjectCategories\\\\032.cartman', 'D:\\\\Abhimanyu Singh\\\\256_ObjectCategories\\\\033.cd', 'D:\\\\Abhimanyu Singh\\\\256_ObjectCategories\\\\034.centipede', 'D:\\\\Abhimanyu Singh\\\\256_ObjectCategories\\\\035.cereal-box', 'D:\\\\Abhimanyu Singh\\\\256_ObjectCategories\\\\036.chandelier-101', 'D:\\\\Abhimanyu Singh\\\\256_ObjectCategories\\\\037.chess-board', 'D:\\\\Abhimanyu Singh\\\\256_ObjectCategories\\\\038.chimp', 'D:\\\\Abhimanyu Singh\\\\256_ObjectCategories\\\\039.chopsticks', 'D:\\\\Abhimanyu Singh\\\\256_ObjectCategories\\\\040.cockroach', 'D:\\\\Abhimanyu Singh\\\\256_ObjectCategories\\\\041.coffee-mug', 'D:\\\\Abhimanyu Singh\\\\256_ObjectCategories\\\\042.coffin', 'D:\\\\Abhimanyu Singh\\\\256_ObjectCategories\\\\043.coin', 'D:\\\\Abhimanyu Singh\\\\256_ObjectCategories\\\\044.comet', 'D:\\\\Abhimanyu Singh\\\\256_ObjectCategories\\\\045.computer-keyboard', 'D:\\\\Abhimanyu Singh\\\\256_ObjectCategories\\\\046.computer-monitor', 'D:\\\\Abhimanyu Singh\\\\256_ObjectCategories\\\\047.computer-mouse', 'D:\\\\Abhimanyu Singh\\\\256_ObjectCategories\\\\048.conch', 'D:\\\\Abhimanyu Singh\\\\256_ObjectCategories\\\\049.cormorant', 'D:\\\\Abhimanyu Singh\\\\256_ObjectCategories\\\\050.covered-wagon', 'D:\\\\Abhimanyu Singh\\\\256_ObjectCategories\\\\051.cowboy-hat', 'D:\\\\Abhimanyu Singh\\\\256_ObjectCategories\\\\052.crab-101', 'D:\\\\Abhimanyu Singh\\\\256_ObjectCategories\\\\053.desk-globe', 'D:\\\\Abhimanyu Singh\\\\256_ObjectCategories\\\\054.diamond-ring', 'D:\\\\Abhimanyu Singh\\\\256_ObjectCategories\\\\055.dice', 'D:\\\\Abhimanyu Singh\\\\256_ObjectCategories\\\\056.dog', 'D:\\\\Abhimanyu Singh\\\\256_ObjectCategories\\\\057.dolphin-101', 'D:\\\\Abhimanyu Singh\\\\256_ObjectCategories\\\\058.doorknob', 'D:\\\\Abhimanyu Singh\\\\256_ObjectCategories\\\\059.drinking-straw', 'D:\\\\Abhimanyu Singh\\\\256_ObjectCategories\\\\060.duck', 'D:\\\\Abhimanyu Singh\\\\256_ObjectCategories\\\\061.dumb-bell', 'D:\\\\Abhimanyu Singh\\\\256_ObjectCategories\\\\062.eiffel-tower', 'D:\\\\Abhimanyu Singh\\\\256_ObjectCategories\\\\063.electric-guitar-101', 'D:\\\\Abhimanyu Singh\\\\256_ObjectCategories\\\\064.elephant-101', 'D:\\\\Abhimanyu Singh\\\\256_ObjectCategories\\\\065.elk', 'D:\\\\Abhimanyu Singh\\\\256_ObjectCategories\\\\066.ewer-101', 'D:\\\\Abhimanyu Singh\\\\256_ObjectCategories\\\\067.eyeglasses', 'D:\\\\Abhimanyu Singh\\\\256_ObjectCategories\\\\068.fern', 'D:\\\\Abhimanyu Singh\\\\256_ObjectCategories\\\\069.fighter-jet', 'D:\\\\Abhimanyu Singh\\\\256_ObjectCategories\\\\070.fire-extinguisher', 'D:\\\\Abhimanyu Singh\\\\256_ObjectCategories\\\\071.fire-hydrant', 'D:\\\\Abhimanyu Singh\\\\256_ObjectCategories\\\\072.fire-truck', 'D:\\\\Abhimanyu Singh\\\\256_ObjectCategories\\\\073.fireworks', 'D:\\\\Abhimanyu Singh\\\\256_ObjectCategories\\\\074.flashlight', 'D:\\\\Abhimanyu Singh\\\\256_ObjectCategories\\\\075.floppy-disk', 'D:\\\\Abhimanyu Singh\\\\256_ObjectCategories\\\\076.football-helmet', 'D:\\\\Abhimanyu Singh\\\\256_ObjectCategories\\\\077.french-horn', 'D:\\\\Abhimanyu Singh\\\\256_ObjectCategories\\\\078.fried-egg', 'D:\\\\Abhimanyu Singh\\\\256_ObjectCategories\\\\079.frisbee', 'D:\\\\Abhimanyu Singh\\\\256_ObjectCategories\\\\080.frog', 'D:\\\\Abhimanyu Singh\\\\256_ObjectCategories\\\\081.frying-pan', 'D:\\\\Abhimanyu Singh\\\\256_ObjectCategories\\\\082.galaxy', 'D:\\\\Abhimanyu Singh\\\\256_ObjectCategories\\\\083.gas-pump', 'D:\\\\Abhimanyu Singh\\\\256_ObjectCategories\\\\084.giraffe', 'D:\\\\Abhimanyu Singh\\\\256_ObjectCategories\\\\085.goat', 'D:\\\\Abhimanyu Singh\\\\256_ObjectCategories\\\\086.golden-gate-bridge', 'D:\\\\Abhimanyu Singh\\\\256_ObjectCategories\\\\087.goldfish', 'D:\\\\Abhimanyu Singh\\\\256_ObjectCategories\\\\088.golf-ball', 'D:\\\\Abhimanyu Singh\\\\256_ObjectCategories\\\\089.goose', 'D:\\\\Abhimanyu Singh\\\\256_ObjectCategories\\\\090.gorilla', 'D:\\\\Abhimanyu Singh\\\\256_ObjectCategories\\\\091.grand-piano-101', 'D:\\\\Abhimanyu Singh\\\\256_ObjectCategories\\\\092.grapes', 'D:\\\\Abhimanyu Singh\\\\256_ObjectCategories\\\\093.grasshopper', 'D:\\\\Abhimanyu Singh\\\\256_ObjectCategories\\\\094.guitar-pick', 'D:\\\\Abhimanyu Singh\\\\256_ObjectCategories\\\\095.hamburger', 'D:\\\\Abhimanyu Singh\\\\256_ObjectCategories\\\\096.hammock', 'D:\\\\Abhimanyu Singh\\\\256_ObjectCategories\\\\097.harmonica', 'D:\\\\Abhimanyu Singh\\\\256_ObjectCategories\\\\098.harp', 'D:\\\\Abhimanyu Singh\\\\256_ObjectCategories\\\\099.harpsichord', 'D:\\\\Abhimanyu Singh\\\\256_ObjectCategories\\\\100.hawksbill-101', 'D:\\\\Abhimanyu Singh\\\\256_ObjectCategories\\\\101.head-phones', 'D:\\\\Abhimanyu Singh\\\\256_ObjectCategories\\\\102.helicopter-101', 'D:\\\\Abhimanyu Singh\\\\256_ObjectCategories\\\\103.hibiscus', 'D:\\\\Abhimanyu Singh\\\\256_ObjectCategories\\\\104.homer-simpson', 'D:\\\\Abhimanyu Singh\\\\256_ObjectCategories\\\\105.horse', 'D:\\\\Abhimanyu Singh\\\\256_ObjectCategories\\\\106.horseshoe-crab', 'D:\\\\Abhimanyu Singh\\\\256_ObjectCategories\\\\107.hot-air-balloon', 'D:\\\\Abhimanyu Singh\\\\256_ObjectCategories\\\\108.hot-dog', 'D:\\\\Abhimanyu Singh\\\\256_ObjectCategories\\\\109.hot-tub', 'D:\\\\Abhimanyu Singh\\\\256_ObjectCategories\\\\110.hourglass', 'D:\\\\Abhimanyu Singh\\\\256_ObjectCategories\\\\111.house-fly', 'D:\\\\Abhimanyu Singh\\\\256_ObjectCategories\\\\112.human-skeleton', 'D:\\\\Abhimanyu Singh\\\\256_ObjectCategories\\\\113.hummingbird', 'D:\\\\Abhimanyu Singh\\\\256_ObjectCategories\\\\114.ibis-101', 'D:\\\\Abhimanyu Singh\\\\256_ObjectCategories\\\\115.ice-cream-cone', 'D:\\\\Abhimanyu Singh\\\\256_ObjectCategories\\\\116.iguana', 'D:\\\\Abhimanyu Singh\\\\256_ObjectCategories\\\\117.ipod', 'D:\\\\Abhimanyu Singh\\\\256_ObjectCategories\\\\118.iris', 'D:\\\\Abhimanyu Singh\\\\256_ObjectCategories\\\\119.jesus-christ', 'D:\\\\Abhimanyu Singh\\\\256_ObjectCategories\\\\120.joy-stick', 'D:\\\\Abhimanyu Singh\\\\256_ObjectCategories\\\\121.kangaroo-101', 'D:\\\\Abhimanyu Singh\\\\256_ObjectCategories\\\\122.kayak', 'D:\\\\Abhimanyu Singh\\\\256_ObjectCategories\\\\123.ketch-101', 'D:\\\\Abhimanyu Singh\\\\256_ObjectCategories\\\\124.killer-whale', 'D:\\\\Abhimanyu Singh\\\\256_ObjectCategories\\\\125.knife', 'D:\\\\Abhimanyu Singh\\\\256_ObjectCategories\\\\126.ladder', 'D:\\\\Abhimanyu Singh\\\\256_ObjectCategories\\\\127.laptop-101', 'D:\\\\Abhimanyu Singh\\\\256_ObjectCategories\\\\128.lathe', 'D:\\\\Abhimanyu Singh\\\\256_ObjectCategories\\\\129.leopards-101', 'D:\\\\Abhimanyu Singh\\\\256_ObjectCategories\\\\130.license-plate', 'D:\\\\Abhimanyu Singh\\\\256_ObjectCategories\\\\131.lightbulb', 'D:\\\\Abhimanyu Singh\\\\256_ObjectCategories\\\\132.light-house', 'D:\\\\Abhimanyu Singh\\\\256_ObjectCategories\\\\133.lightning', 'D:\\\\Abhimanyu Singh\\\\256_ObjectCategories\\\\134.llama-101', 'D:\\\\Abhimanyu Singh\\\\256_ObjectCategories\\\\135.mailbox', 'D:\\\\Abhimanyu Singh\\\\256_ObjectCategories\\\\136.mandolin', 'D:\\\\Abhimanyu Singh\\\\256_ObjectCategories\\\\137.mars', 'D:\\\\Abhimanyu Singh\\\\256_ObjectCategories\\\\138.mattress', 'D:\\\\Abhimanyu Singh\\\\256_ObjectCategories\\\\139.megaphone', 'D:\\\\Abhimanyu Singh\\\\256_ObjectCategories\\\\140.menorah-101', 'D:\\\\Abhimanyu Singh\\\\256_ObjectCategories\\\\141.microscope', 'D:\\\\Abhimanyu Singh\\\\256_ObjectCategories\\\\142.microwave', 'D:\\\\Abhimanyu Singh\\\\256_ObjectCategories\\\\143.minaret', 'D:\\\\Abhimanyu Singh\\\\256_ObjectCategories\\\\144.minotaur', 'D:\\\\Abhimanyu Singh\\\\256_ObjectCategories\\\\145.motorbikes-101', 'D:\\\\Abhimanyu Singh\\\\256_ObjectCategories\\\\146.mountain-bike', 'D:\\\\Abhimanyu Singh\\\\256_ObjectCategories\\\\147.mushroom', 'D:\\\\Abhimanyu Singh\\\\256_ObjectCategories\\\\148.mussels', 'D:\\\\Abhimanyu Singh\\\\256_ObjectCategories\\\\149.necktie', 'D:\\\\Abhimanyu Singh\\\\256_ObjectCategories\\\\150.octopus', 'D:\\\\Abhimanyu Singh\\\\256_ObjectCategories\\\\151.ostrich', 'D:\\\\Abhimanyu Singh\\\\256_ObjectCategories\\\\152.owl', 'D:\\\\Abhimanyu Singh\\\\256_ObjectCategories\\\\153.palm-pilot', 'D:\\\\Abhimanyu Singh\\\\256_ObjectCategories\\\\154.palm-tree', 'D:\\\\Abhimanyu Singh\\\\256_ObjectCategories\\\\155.paperclip', 'D:\\\\Abhimanyu Singh\\\\256_ObjectCategories\\\\156.paper-shredder', 'D:\\\\Abhimanyu Singh\\\\256_ObjectCategories\\\\157.pci-card', 'D:\\\\Abhimanyu Singh\\\\256_ObjectCategories\\\\158.penguin', 'D:\\\\Abhimanyu Singh\\\\256_ObjectCategories\\\\159.people', 'D:\\\\Abhimanyu Singh\\\\256_ObjectCategories\\\\160.pez-dispenser', 'D:\\\\Abhimanyu Singh\\\\256_ObjectCategories\\\\161.photocopier', 'D:\\\\Abhimanyu Singh\\\\256_ObjectCategories\\\\162.picnic-table', 'D:\\\\Abhimanyu Singh\\\\256_ObjectCategories\\\\163.playing-card', 'D:\\\\Abhimanyu Singh\\\\256_ObjectCategories\\\\164.porcupine', 'D:\\\\Abhimanyu Singh\\\\256_ObjectCategories\\\\165.pram', 'D:\\\\Abhimanyu Singh\\\\256_ObjectCategories\\\\166.praying-mantis', 'D:\\\\Abhimanyu Singh\\\\256_ObjectCategories\\\\167.pyramid', 'D:\\\\Abhimanyu Singh\\\\256_ObjectCategories\\\\168.raccoon', 'D:\\\\Abhimanyu Singh\\\\256_ObjectCategories\\\\169.radio-telescope', 'D:\\\\Abhimanyu Singh\\\\256_ObjectCategories\\\\170.rainbow', 'D:\\\\Abhimanyu Singh\\\\256_ObjectCategories\\\\171.refrigerator', 'D:\\\\Abhimanyu Singh\\\\256_ObjectCategories\\\\172.revolver-101', 'D:\\\\Abhimanyu Singh\\\\256_ObjectCategories\\\\173.rifle', 'D:\\\\Abhimanyu Singh\\\\256_ObjectCategories\\\\174.rotary-phone', 'D:\\\\Abhimanyu Singh\\\\256_ObjectCategories\\\\175.roulette-wheel', 'D:\\\\Abhimanyu Singh\\\\256_ObjectCategories\\\\176.saddle', 'D:\\\\Abhimanyu Singh\\\\256_ObjectCategories\\\\177.saturn', 'D:\\\\Abhimanyu Singh\\\\256_ObjectCategories\\\\178.school-bus', 'D:\\\\Abhimanyu Singh\\\\256_ObjectCategories\\\\179.scorpion-101', 'D:\\\\Abhimanyu Singh\\\\256_ObjectCategories\\\\180.screwdriver', 'D:\\\\Abhimanyu Singh\\\\256_ObjectCategories\\\\181.segway', 'D:\\\\Abhimanyu Singh\\\\256_ObjectCategories\\\\182.self-propelled-lawn-mower', 'D:\\\\Abhimanyu Singh\\\\256_ObjectCategories\\\\183.sextant', 'D:\\\\Abhimanyu Singh\\\\256_ObjectCategories\\\\184.sheet-music', 'D:\\\\Abhimanyu Singh\\\\256_ObjectCategories\\\\185.skateboard', 'D:\\\\Abhimanyu Singh\\\\256_ObjectCategories\\\\186.skunk', 'D:\\\\Abhimanyu Singh\\\\256_ObjectCategories\\\\187.skyscraper', 'D:\\\\Abhimanyu Singh\\\\256_ObjectCategories\\\\188.smokestack', 'D:\\\\Abhimanyu Singh\\\\256_ObjectCategories\\\\189.snail', 'D:\\\\Abhimanyu Singh\\\\256_ObjectCategories\\\\190.snake', 'D:\\\\Abhimanyu Singh\\\\256_ObjectCategories\\\\191.sneaker', 'D:\\\\Abhimanyu Singh\\\\256_ObjectCategories\\\\192.snowmobile', 'D:\\\\Abhimanyu Singh\\\\256_ObjectCategories\\\\193.soccer-ball', 'D:\\\\Abhimanyu Singh\\\\256_ObjectCategories\\\\194.socks', 'D:\\\\Abhimanyu Singh\\\\256_ObjectCategories\\\\195.soda-can', 'D:\\\\Abhimanyu Singh\\\\256_ObjectCategories\\\\196.spaghetti', 'D:\\\\Abhimanyu Singh\\\\256_ObjectCategories\\\\197.speed-boat', 'D:\\\\Abhimanyu Singh\\\\256_ObjectCategories\\\\198.spider', 'D:\\\\Abhimanyu Singh\\\\256_ObjectCategories\\\\199.spoon', 'D:\\\\Abhimanyu Singh\\\\256_ObjectCategories\\\\200.stained-glass', 'D:\\\\Abhimanyu Singh\\\\256_ObjectCategories\\\\201.starfish-101', 'D:\\\\Abhimanyu Singh\\\\256_ObjectCategories\\\\202.steering-wheel', 'D:\\\\Abhimanyu Singh\\\\256_ObjectCategories\\\\203.stirrups', 'D:\\\\Abhimanyu Singh\\\\256_ObjectCategories\\\\204.sunflower-101', 'D:\\\\Abhimanyu Singh\\\\256_ObjectCategories\\\\205.superman', 'D:\\\\Abhimanyu Singh\\\\256_ObjectCategories\\\\206.sushi', 'D:\\\\Abhimanyu Singh\\\\256_ObjectCategories\\\\207.swan', 'D:\\\\Abhimanyu Singh\\\\256_ObjectCategories\\\\208.swiss-army-knife', 'D:\\\\Abhimanyu Singh\\\\256_ObjectCategories\\\\209.sword', 'D:\\\\Abhimanyu Singh\\\\256_ObjectCategories\\\\210.syringe', 'D:\\\\Abhimanyu Singh\\\\256_ObjectCategories\\\\211.tambourine', 'D:\\\\Abhimanyu Singh\\\\256_ObjectCategories\\\\212.teapot', 'D:\\\\Abhimanyu Singh\\\\256_ObjectCategories\\\\213.teddy-bear', 'D:\\\\Abhimanyu Singh\\\\256_ObjectCategories\\\\214.teepee', 'D:\\\\Abhimanyu Singh\\\\256_ObjectCategories\\\\215.telephone-box', 'D:\\\\Abhimanyu Singh\\\\256_ObjectCategories\\\\216.tennis-ball', 'D:\\\\Abhimanyu Singh\\\\256_ObjectCategories\\\\217.tennis-court', 'D:\\\\Abhimanyu Singh\\\\256_ObjectCategories\\\\218.tennis-racket', 'D:\\\\Abhimanyu Singh\\\\256_ObjectCategories\\\\219.theodolite', 'D:\\\\Abhimanyu Singh\\\\256_ObjectCategories\\\\220.toaster', 'D:\\\\Abhimanyu Singh\\\\256_ObjectCategories\\\\221.tomato', 'D:\\\\Abhimanyu Singh\\\\256_ObjectCategories\\\\222.tombstone', 'D:\\\\Abhimanyu Singh\\\\256_ObjectCategories\\\\223.top-hat', 'D:\\\\Abhimanyu Singh\\\\256_ObjectCategories\\\\224.touring-bike', 'D:\\\\Abhimanyu Singh\\\\256_ObjectCategories\\\\225.tower-pisa', 'D:\\\\Abhimanyu Singh\\\\256_ObjectCategories\\\\226.traffic-light', 'D:\\\\Abhimanyu Singh\\\\256_ObjectCategories\\\\227.treadmill', 'D:\\\\Abhimanyu Singh\\\\256_ObjectCategories\\\\228.triceratops', 'D:\\\\Abhimanyu Singh\\\\256_ObjectCategories\\\\229.tricycle', 'D:\\\\Abhimanyu Singh\\\\256_ObjectCategories\\\\230.trilobite-101', 'D:\\\\Abhimanyu Singh\\\\256_ObjectCategories\\\\231.tripod', 'D:\\\\Abhimanyu Singh\\\\256_ObjectCategories\\\\232.t-shirt', 'D:\\\\Abhimanyu Singh\\\\256_ObjectCategories\\\\233.tuning-fork', 'D:\\\\Abhimanyu Singh\\\\256_ObjectCategories\\\\234.tweezer', 'D:\\\\Abhimanyu Singh\\\\256_ObjectCategories\\\\235.umbrella-101', 'D:\\\\Abhimanyu Singh\\\\256_ObjectCategories\\\\236.unicorn', 'D:\\\\Abhimanyu Singh\\\\256_ObjectCategories\\\\237.vcr', 'D:\\\\Abhimanyu Singh\\\\256_ObjectCategories\\\\238.video-projector', 'D:\\\\Abhimanyu Singh\\\\256_ObjectCategories\\\\239.washing-machine', 'D:\\\\Abhimanyu Singh\\\\256_ObjectCategories\\\\240.watch-101', 'D:\\\\Abhimanyu Singh\\\\256_ObjectCategories\\\\241.waterfall', 'D:\\\\Abhimanyu Singh\\\\256_ObjectCategories\\\\242.watermelon', 'D:\\\\Abhimanyu Singh\\\\256_ObjectCategories\\\\243.welding-mask', 'D:\\\\Abhimanyu Singh\\\\256_ObjectCategories\\\\244.wheelbarrow', 'D:\\\\Abhimanyu Singh\\\\256_ObjectCategories\\\\245.windmill', 'D:\\\\Abhimanyu Singh\\\\256_ObjectCategories\\\\246.wine-bottle', 'D:\\\\Abhimanyu Singh\\\\256_ObjectCategories\\\\247.xylophone', 'D:\\\\Abhimanyu Singh\\\\256_ObjectCategories\\\\248.yarmulke', 'D:\\\\Abhimanyu Singh\\\\256_ObjectCategories\\\\249.yo-yo', 'D:\\\\Abhimanyu Singh\\\\256_ObjectCategories\\\\250.zebra', 'D:\\\\Abhimanyu Singh\\\\256_ObjectCategories\\\\251.airplanes-101', 'D:\\\\Abhimanyu Singh\\\\256_ObjectCategories\\\\252.car-side-101', 'D:\\\\Abhimanyu Singh\\\\256_ObjectCategories\\\\253.faces-easy-101', 'D:\\\\Abhimanyu Singh\\\\256_ObjectCategories\\\\254.greyhound', 'D:\\\\Abhimanyu Singh\\\\256_ObjectCategories\\\\255.tennis-shoes', 'D:\\\\Abhimanyu Singh\\\\256_ObjectCategories\\\\256.toad', 'D:\\\\Abhimanyu Singh\\\\256_ObjectCategories\\\\257.clutter']\n"
     ]
    }
   ],
   "source": [
    "folders = []\n",
    "for folder in os.listdir(dir) :\n",
    "    folders.append(dir + '\\\\'+ folder)\n",
    "    #os.rename(dir + file, dir + fname)\n",
    "\n",
    "folders = (natsort.natsorted(folders,reverse=False))\n",
    "print(folders)"
   ]
  },
  {
   "cell_type": "code",
   "execution_count": 40,
   "id": "91d963f7-0fd2-4783-8cc7-5dd15c5d47d3",
   "metadata": {},
   "outputs": [],
   "source": [
    "dest_dir = dir = 'D:\\\\Abhimanyu Singh\\\\all_files\\\\'\n",
    "source_files = []\n",
    "\n",
    "for folder in folders :\n",
    "    for file in os.listdir(folder) :\n",
    "        source_file = folder +'\\\\' + file\n",
    "        source_files.append(source_file)\n",
    "        \n",
    "#print(len(files))\n",
    "for source in source_files :\n",
    "    shutil.move(source, dest_dir)\n"
   ]
  },
  {
   "cell_type": "code",
   "execution_count": 42,
   "id": "e4045c96-f5bb-44eb-a69a-30cd78aa9b8b",
   "metadata": {},
   "outputs": [],
   "source": [
    "over_all_string,  file_data = \"\", \"\"\n",
    "counter = 0\n",
    "for file in os.listdir(dest_dir) :\n",
    "    \n",
    "    with open(dest_dir + file, encoding='ANSI') as fp:\n",
    "        file_data = fp.read()\n",
    "        counter += 1\n",
    "        over_all_string += file_data\n",
    "    "
   ]
  },
  {
   "cell_type": "code",
   "execution_count": 63,
   "id": "54402c6e-60f5-40d2-87d2-00dc4ba23e02",
   "metadata": {},
   "outputs": [
    {
     "name": "stdout",
     "output_type": "stream",
     "text": [
      "LPlþ%’7#\u0019ƒ\n"
     ]
    }
   ],
   "source": [
    "print(over_all_string[2000:2010])"
   ]
  },
  {
   "cell_type": "code",
   "execution_count": 43,
   "id": "86ed1e8a-6306-4fe0-91de-5c3dc73069fc",
   "metadata": {},
   "outputs": [
    {
     "name": "stdout",
     "output_type": "stream",
     "text": [
      "1159357008\n"
     ]
    }
   ],
   "source": [
    "print(len(over_all_string))"
   ]
  },
  {
   "cell_type": "code",
   "execution_count": 66,
   "id": "35117df3-3b4e-4ee9-afbe-e51bdcb5625a",
   "metadata": {},
   "outputs": [],
   "source": [
    "output_file = open(\"D:\\\\Abhimanyu Singh\\\\knn experiement\\\\consolidated_string.txt\", \"wb\")\n",
    "output_file.write(over_all_string.encode('ANSI'))\n",
    "output_file.close()"
   ]
  },
  {
   "cell_type": "code",
   "execution_count": 1,
   "id": "158f8c6a-3497-4ea1-9ae0-d3b5f34611d3",
   "metadata": {},
   "outputs": [],
   "source": [
    "file_length = 524288   # 512 * 1024 = 524288\n",
    "num_of_fils = 1001\n",
    "\n",
    "def split_to_files(data) :\n",
    "    split = [data[i:i+file_length] for i in range(0, num_of_fils*file_length, file_length)]\n",
    "    print(len(split), split)\n",
    "    return split"
   ]
  },
  {
   "cell_type": "code",
   "execution_count": 2,
   "id": "03eedca7-7bc0-43fa-913c-02cf7b6d827e",
   "metadata": {},
   "outputs": [],
   "source": [
    "over_all_string = ''\n",
    "with open(\"D:\\\\Abhimanyu Singh\\\\knn experiement\\\\consolidated_string.txt\", encoding='ANSI') as fp:\n",
    "    file_data = fp.read()\n",
    "    over_all_string += file_data"
   ]
  },
  {
   "cell_type": "code",
   "execution_count": 3,
   "id": "d9d8e1b4-2ba8-458a-a6eb-3f32157a4b2c",
   "metadata": {},
   "outputs": [],
   "source": [
    "#jupyter notebook --NotebookApp.iopub_data_rate_limit=1.0e10  type in conda command prompt\n",
    "plain_text_files = split_to_files(over_all_string)"
   ]
  },
  {
   "cell_type": "code",
   "execution_count": 8,
   "id": "22b764d3-2242-4b70-9eb9-497af1c4b900",
   "metadata": {},
   "outputs": [
    {
     "name": "stdout",
     "output_type": "stream",
     "text": [
      "524288\n"
     ]
    }
   ],
   "source": [
    "print(len(plain_text_files[100]))"
   ]
  },
  {
   "cell_type": "code",
   "execution_count": 9,
   "id": "50f214b2",
   "metadata": {},
   "outputs": [],
   "source": [
    "counter = 0\n",
    "for file in plain_text_files :\n",
    "    counter += 1\n",
    "    dir = \"D:\\\\Abhimanyu Singh\\\\knn experiement\\\\plaintext_data\\\\\"\n",
    "    file_name = dir + \"plain_text_file\" + str(counter) + \".txt\"\n",
    "    output_file = open(file_name, \"wb\")\n",
    "    output_file.write(file.encode('ANSI'))\n",
    "    output_file.close()"
   ]
  },
  {
   "cell_type": "code",
   "execution_count": null,
   "id": "fa1c950b",
   "metadata": {},
   "outputs": [],
   "source": []
  }
 ],
 "metadata": {
  "kernelspec": {
   "display_name": "Python 3 (ipykernel)",
   "language": "python",
   "name": "python3"
  },
  "language_info": {
   "codemirror_mode": {
    "name": "ipython",
    "version": 3
   },
   "file_extension": ".py",
   "mimetype": "text/x-python",
   "name": "python",
   "nbconvert_exporter": "python",
   "pygments_lexer": "ipython3",
   "version": "3.9.12"
  }
 },
 "nbformat": 4,
 "nbformat_minor": 5
}
